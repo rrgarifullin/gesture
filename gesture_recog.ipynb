{
 "cells": [
  {
   "cell_type": "markdown",
   "id": "9eaae74d",
   "metadata": {},
   "source": [
    "# Подключение библиотек"
   ]
  },
  {
   "cell_type": "code",
   "execution_count": null,
   "id": "d20dc7ed",
   "metadata": {},
   "outputs": [],
   "source": [
    "import cv2\n",
    "import numpy as np\n",
    "import os\n",
    "from matplotlib import pyplot as plt\n",
    "import time\n",
    "import mediapipe as mp\n",
    "import pandas as pd\n",
    "import seaborn as sns\n",
    "from sklearn.model_selection import train_test_split\n",
    "from tensorflow.keras.utils import to_categorical\n",
    "from tensorflow.keras.models import Sequential\n",
    "from tensorflow.keras.layers import LSTM, Dense\n",
    "from tensorflow.keras.callbacks import TensorBoard\n",
    "from tensorflow.math import confusion_matrix"
   ]
  },
  {
   "cell_type": "markdown",
   "id": "f85f7a6b",
   "metadata": {},
   "source": [
    "# Описание функций для получения ключевых точек"
   ]
  },
  {
   "cell_type": "code",
   "execution_count": null,
   "id": "4384811f",
   "metadata": {},
   "outputs": [],
   "source": [
    "mp_hands = mp.solutions.hands\n",
    "mp_drawing = mp.solutions.drawing_utils\n",
    "\n",
    "# функция определения положения руки и получения ключевых точек\n",
    "def hand_detection(image, model):\n",
    "    image = cv2.cvtColor(image, cv2.COLOR_BGR2RGB) #перевод изображения в формат RGB\n",
    "    image.flags.writeable = False\n",
    "    results = model.process(image)\n",
    "    image.flags.writeable = True\n",
    "    image = cv2.cvtColor(image, cv2.COLOR_RGB2BGR) #перевод изображения в формат BGR\n",
    "    return image, results\n",
    "\n",
    "# функция отрисовки ключевых точек на изображении\n",
    "def draw_landmarks(image, results):\n",
    "    if results.multi_hand_landmarks:\n",
    "            for num, hand in enumerate(results.multi_hand_landmarks):\n",
    "                mp_drawing.draw_landmarks(image, hand, mp_hands.HAND_CONNECTIONS,\n",
    "                                         mp_drawing.DrawingSpec(color=(0, 0, 255),\n",
    "                                                               thickness=2, circle_radius=4),\n",
    "                                         mp_drawing.DrawingSpec(color=(0, 255, 0),\n",
    "                                                               thickness=2, circle_radius=2))\n",
    "\n",
    "# функция извлечения ключевых точек               \n",
    "def extract_keypoints(results):\n",
    "    hand = np.array([[res.x, res.y, res.z] for res in results.multi_hand_landmarks[0].landmark]).flatten() if results.multi_hand_landmarks else np.zeros(63)\n",
    "    return hand"
   ]
  },
  {
   "cell_type": "markdown",
   "id": "5260a597",
   "metadata": {},
   "source": [
    "# Сбор жестовых данных"
   ]
  },
  {
   "cell_type": "code",
   "execution_count": null,
   "id": "020de489",
   "metadata": {},
   "outputs": [],
   "source": [
    "DATA_PATH = os.path.join('DATA_3') # корневая папка, в которой будут храниться данные\n",
    "actions = np.array(['move_left', 'move_straight', 'stop', 'move_right'])  # название жестов\n",
    "number_sequences = 30 # количество записываемых видео для каждого жеста\n",
    "sequence_length = 30 # количество кадров\n",
    "\n",
    "# создание папок для каждого видео\n",
    "for action in actions:\n",
    "    for sequence in range(0,number_sequences):\n",
    "        try:\n",
    "            os.makedirs(os.path.join(DATA_PATH, action,\n",
    "                                    str(sequence)))\n",
    "        except:\n",
    "            pass\n",
    "        \n",
    "cap = cv2.VideoCapture(0) # подключение к камере\n",
    "with mp_hands.Hands(min_detection_confidence=0.5, min_tracking_confidence=0.5) as hands:\n",
    "    \n",
    "    for action in actions:\n",
    "        for sequence in range(0,number_sequences):\n",
    "            for frame_num in range(sequence_length):\n",
    "                \n",
    "                ret, frame = cap.read() # считывание кадра\n",
    "                \n",
    "                image, results = hand_detection(frame, hands)\n",
    "                \n",
    "                draw_landmarks(image, results)\n",
    "                \n",
    "                if frame_num == 0:\n",
    "                    \n",
    "                    cv2.putText(image, 'Start',\n",
    "                               (120, 200), cv2.FONT_HERSHEY_SIMPLEX, 1, (0, 255, 0), 4, cv2.LINE_AA)\n",
    "                    \n",
    "                    cv2.putText(image, 'gesture {} video number {}'.format(action, sequence),\n",
    "                               (15, 12), cv2.FONT_HERSHEY_SIMPLEX, 0.5, (0, 0, 255), 1, cv2.LINE_AA)\n",
    "                    \n",
    "                    cv2.imshow('Image', image)\n",
    "                    cv2.waitKey(1000)\n",
    "                    \n",
    "                else:\n",
    "                    \n",
    "                    cv2.putText(image, 'gesture {} video number {}'.format(action, sequence),\n",
    "                               (15, 12), cv2.FONT_HERSHEY_SIMPLEX, 0.5, (0, 0, 255), 1, cv2.LINE_AA)\n",
    "                    \n",
    "                    cv2.imshow('Image', image)\n",
    "                \n",
    "                keypoints = extract_keypoints(results)\n",
    "                npy_path = os.path.join(DATA_PATH, action, str(sequence), str(frame_num))\n",
    "                np.save(npy_path, keypoints)\n",
    "                \n",
    "                if cv2.waitKey(10) & 0xFF == ord('q'):\n",
    "                    break\n",
    "    \n",
    "    cap.release()\n",
    "    cv2.destroyAllWindows()"
   ]
  },
  {
   "cell_type": "markdown",
   "id": "12ce7934",
   "metadata": {},
   "source": [
    "# Считывание записанных данных"
   ]
  },
  {
   "cell_type": "code",
   "execution_count": null,
   "id": "9c291bc3",
   "metadata": {},
   "outputs": [],
   "source": [
    "label_map = {label:num for num, label in enumerate(actions)}\n",
    "\n",
    "sequences, labels = [], []\n",
    "for action in actions:\n",
    "    for sequence in range(number_sequences):\n",
    "        window = []\n",
    "        for frame_num in range(sequence_length):\n",
    "            res = np.load(os.path.join(DATA_PATH, action, str(sequence), \"{}.npy\".format(frame_num)), allow_pickle=True)\n",
    "            window.append(res)\n",
    "        sequences.append(window)\n",
    "        labels.append(label_map[action])\n",
    "        \n",
    "X = np.array(sequences)\n",
    "y = to_categorical(labels).astype(int)"
   ]
  },
  {
   "cell_type": "markdown",
   "id": "27e6817d",
   "metadata": {},
   "source": [
    "# Обучение нейронной сети"
   ]
  },
  {
   "cell_type": "code",
   "execution_count": null,
   "id": "82c21799",
   "metadata": {},
   "outputs": [],
   "source": [
    "X_train, X_test, y_train, y_test = train_test_split(X, y, test_size=0.2, shuffle=True)\n",
    "\n",
    "model = Sequential()\n",
    "model.add(LSTM(256, return_sequences=True, activation='relu', input_shape=(30,63)))\n",
    "model.add(LSTM(128, return_sequences=True, activation='relu'))\n",
    "model.add(LSTM(64, return_sequences=False, activation='relu'))\n",
    "model.add(Dense(64, activation='relu'))\n",
    "model.add(Dense(32, activation='relu'))\n",
    "model.add(Dense(16, activation='relu'))\n",
    "model.add(Dense(actions.shape[0], activation='softmax'))\n",
    "\n",
    "model.compile(optimizer='Adam', loss='categorical_crossentropy', metrics=['categorical_accuracy'])"
   ]
  },
  {
   "cell_type": "markdown",
   "id": "e2781362",
   "metadata": {},
   "source": [
    "# Вывод графиков"
   ]
  },
  {
   "cell_type": "code",
   "execution_count": null,
   "id": "c9b3722e",
   "metadata": {},
   "outputs": [],
   "source": [
    "history = model.fit(X_train, y_train, epochs=100, verbose=1, validation_data=(X_test, y_test))\n",
    "print(history.history.keys())\n",
    "# summarize history for accuracy\n",
    "plt.plot(history.history['categorical_accuracy'])\n",
    "plt.plot(history.history['val_categorical_accuracy'])\n",
    "plt.title('точность модели')\n",
    "plt.ylabel('точность')\n",
    "plt.xlabel('эпоха')\n",
    "plt.legend(['обучение', 'тест'], loc='upper left')\n",
    "plt.show()"
   ]
  },
  {
   "cell_type": "markdown",
   "id": "62614393",
   "metadata": {},
   "source": [
    "# Распознавание жестов в реальном времени"
   ]
  },
  {
   "cell_type": "code",
   "execution_count": null,
   "id": "eb07d21b",
   "metadata": {},
   "outputs": [],
   "source": [
    "sequence = []\n",
    "sentence = ''\n",
    "threshold = 0.95\n",
    "\n",
    "cap = cv2.VideoCapture(0)\n",
    "\n",
    "with mp_hands.Hands(min_detection_confidence=0.5, min_tracking_confidence=0.5) as hands:\n",
    "    while cap.isOpened():\n",
    "        \n",
    "        ret, frame = cap.read()\n",
    "        \n",
    "        image, results = hand_detection(frame, hands)\n",
    "        \n",
    "        draw_landmarks(image, results)\n",
    "        \n",
    "        keypoints = extract_keypoints(results)\n",
    "        sequence.append(keypoints)\n",
    "        sequence = sequence[-30:]\n",
    "        \n",
    "        if len(sequence) == 30:\n",
    "            res = model.predict(np.expand_dims(sequence, axis=0))[0]\n",
    "            \n",
    "            if res[np.argmax(res)] >= threshold:\n",
    "                if len(sentence) > 0:\n",
    "                    if actions[np.argmax(res)] != sentence:\n",
    "                        sentence = actions[np.argmax(res)]\n",
    "                else:\n",
    "                    sentence = actions[np.argmax(res)]\n",
    "        \n",
    "        cv2.rectangle(image, (0,0), (400,40), (245,117,16), -1)\n",
    "        cv2.putText(image, sentence, (3,30), \n",
    "                   cv2.FONT_HERSHEY_SIMPLEX, 1, (255,255,255),\n",
    "                   2, cv2.LINE_AA)\n",
    "        cv2.putText(image, str(float('{:.3f}'.format(res[np.argmax(res)]))), (330,30), \n",
    "                   cv2.FONT_HERSHEY_SIMPLEX, 1, (255,255,255),\n",
    "                   2, cv2.LINE_AA)\n",
    "        cv2.imshow('gesture recognition', image)\n",
    "        \n",
    "        if cv2.waitKey(10) & 0xFF == ord('q'):\n",
    "            break\n",
    "    \n",
    "    cap.release()\n",
    "    cv2.destroyAllWindows()"
   ]
  }
 ],
 "metadata": {
  "kernelspec": {
   "display_name": "Python 3",
   "language": "python",
   "name": "python3"
  },
  "language_info": {
   "codemirror_mode": {
    "name": "ipython",
    "version": 3
   },
   "file_extension": ".py",
   "mimetype": "text/x-python",
   "name": "python",
   "nbconvert_exporter": "python",
   "pygments_lexer": "ipython3",
   "version": "3.8.8"
  }
 },
 "nbformat": 4,
 "nbformat_minor": 5
}
